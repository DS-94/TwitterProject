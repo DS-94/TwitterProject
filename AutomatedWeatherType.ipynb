{
 "cells": [
  {
   "cell_type": "code",
   "execution_count": 4,
   "metadata": {
    "collapsed": true
   },
   "outputs": [],
   "source": [
    "import json\n",
    "from pandas import DataFrame, Series \n",
    "import pandas\n",
    "import numpy\n",
    "import urllib"
   ]
  },
  {
   "cell_type": "code",
   "execution_count": 5,
   "metadata": {
    "collapsed": true
   },
   "outputs": [],
   "source": [
    "url = 'http://datapoint.metoffice.gov.uk/public/data/val/wxfcs/all/json/310013?res=daily&key=841095cd-32d4-4984-9026-f21e9fdf90b2'"
   ]
  },
  {
   "cell_type": "code",
   "execution_count": 6,
   "metadata": {
    "collapsed": true
   },
   "outputs": [],
   "source": [
    "resp = urllib.urlopen(url)\n",
    "data = json.loads(resp.read())\n",
    "ManGeo = {'lat': u'53.479', 'lon': u'-2.2465', 'name': u'MANCHESTER'}\n",
    "Man5Data = []\n",
    "ManInd = []"
   ]
  },
  {
   "cell_type": "code",
   "execution_count": 7,
   "metadata": {
    "collapsed": true
   },
   "outputs": [],
   "source": [
    "datar = data['SiteRep']['DV']['Location']['Period']\n",
    "for i in datar[:]:\n",
    "      ManInd.append(i['value'][:-1])"
   ]
  },
  {
   "cell_type": "code",
   "execution_count": 8,
   "metadata": {
    "collapsed": true
   },
   "outputs": [],
   "source": [
    "datar = data['SiteRep']['DV']['Location']['Period']\n",
    "for i in datar[:]:\n",
    "    x = i['Rep'][0]\n",
    "    Man5Data.append({'Feels Like Max (C)':x['FDm'], 'Daily Max (C)':x['Dm'], 'Noon RH (%)':x['Hn'], 'Wind Speed (mph)':x['S'], 'Weather Type':x['W'], 'Precip Prob_day (%)':x['PPd'] })"
   ]
  },
  {
   "cell_type": "code",
   "execution_count": 9,
   "metadata": {
    "collapsed": true
   },
   "outputs": [],
   "source": [
    "ManFrame = DataFrame(Man5Data)"
   ]
  },
  {
   "cell_type": "code",
   "execution_count": 10,
   "metadata": {
    "collapsed": true
   },
   "outputs": [],
   "source": [
    "ManFrame.index=ManInd"
   ]
  },
  {
   "cell_type": "code",
   "execution_count": 11,
   "metadata": {
    "collapsed": false
   },
   "outputs": [
    {
     "data": {
      "text/html": [
       "<div>\n",
       "<table border=\"1\" class=\"dataframe\">\n",
       "  <thead>\n",
       "    <tr style=\"text-align: right;\">\n",
       "      <th></th>\n",
       "      <th>Daily Max (C)</th>\n",
       "      <th>Feels Like Max (C)</th>\n",
       "      <th>Noon RH (%)</th>\n",
       "      <th>Precip Prob_day (%)</th>\n",
       "      <th>Weather Type</th>\n",
       "      <th>Wind Speed (mph)</th>\n",
       "    </tr>\n",
       "  </thead>\n",
       "  <tbody>\n",
       "    <tr>\n",
       "      <th>2016-09-16</th>\n",
       "      <td>17</td>\n",
       "      <td>15</td>\n",
       "      <td>61</td>\n",
       "      <td>68</td>\n",
       "      <td>3</td>\n",
       "      <td>13</td>\n",
       "    </tr>\n",
       "    <tr>\n",
       "      <th>2016-09-17</th>\n",
       "      <td>18</td>\n",
       "      <td>17</td>\n",
       "      <td>65</td>\n",
       "      <td>6</td>\n",
       "      <td>7</td>\n",
       "      <td>7</td>\n",
       "    </tr>\n",
       "    <tr>\n",
       "      <th>2016-09-18</th>\n",
       "      <td>18</td>\n",
       "      <td>17</td>\n",
       "      <td>69</td>\n",
       "      <td>15</td>\n",
       "      <td>7</td>\n",
       "      <td>4</td>\n",
       "    </tr>\n",
       "    <tr>\n",
       "      <th>2016-09-19</th>\n",
       "      <td>16</td>\n",
       "      <td>14</td>\n",
       "      <td>80</td>\n",
       "      <td>56</td>\n",
       "      <td>7</td>\n",
       "      <td>9</td>\n",
       "    </tr>\n",
       "    <tr>\n",
       "      <th>2016-09-20</th>\n",
       "      <td>16</td>\n",
       "      <td>16</td>\n",
       "      <td>79</td>\n",
       "      <td>34</td>\n",
       "      <td>12</td>\n",
       "      <td>4</td>\n",
       "    </tr>\n",
       "  </tbody>\n",
       "</table>\n",
       "</div>"
      ],
      "text/plain": [
       "           Daily Max (C) Feels Like Max (C) Noon RH (%) Precip Prob_day (%)  \\\n",
       "2016-09-16            17                 15          61                  68   \n",
       "2016-09-17            18                 17          65                   6   \n",
       "2016-09-18            18                 17          69                  15   \n",
       "2016-09-19            16                 14          80                  56   \n",
       "2016-09-20            16                 16          79                  34   \n",
       "\n",
       "           Weather Type Wind Speed (mph)  \n",
       "2016-09-16            3               13  \n",
       "2016-09-17            7                7  \n",
       "2016-09-18            7                4  \n",
       "2016-09-19            7                9  \n",
       "2016-09-20           12                4  "
      ]
     },
     "execution_count": 11,
     "metadata": {},
     "output_type": "execute_result"
    }
   ],
   "source": [
    "ManFrame"
   ]
  },
  {
   "cell_type": "code",
   "execution_count": 12,
   "metadata": {
    "collapsed": true
   },
   "outputs": [],
   "source": [
    "weatherdict = {'NA': ['Not available', 'sunny', 'raining', 'windy'], 0: ['Clear night', 'cold', 'windy', 'stars']\\\n",
    ", 1: ['Sunny day', 'sunny', 'hot', 'boiling'], 2: ['Partly cloudy (night)', 'cloudy', 'gloomy', 'overcast' ], 3: ['Partly cloudy (day)', 'cloudy', 'gloomy', 'overcast'],\\\n",
    " 4: 'Not used', 5:['Mist', 'mist', 'misty', 'foggy'], 6: ['Fog', 'fog', 'foggy', 'misty'], 7:['Cloudy', 'cloudy', 'overcast', 'raining'],\\\n",
    "8:['Overcast', 'overcast', 'cloudy', 'raining'], 9:['Light rain shower (night)', 'rain', 'raining', 'drizzle'], 10:['Light rain shower (day)', 'rain', 'raining', 'drizzle']\\\n",
    " ,11: ['Drizzle', 'drizzle', 'rain', 'rain'], 12:['Light rain', 'rain', 'raining', 'drizzle'], 13:['Heavy rain shower (night)', 'rain', 'raining', 'pouring']\\\n",
    ",14:['Heavy rain shower (day)', 'raining', 'pouring', 'rain'], 15:['Heavy rain', 'rain', 'raining', 'pouring'], 16:['Sleet shower (night)', 'sleet', 'raining', 'snow'] \\\n",
    ", 17: ['Sleet shower (day)', 'sleet', 'raining', 'snow'], 18:['Sleet', 'sleet', 'raining', 'snow']\\\n",
    ", 19:['Hail shower (night)', 'hail', 'stormy', 'raining'], 20:['Hail shower (day)', 'hail', 'raining', 'stormy']\\\n",
    ", 21: ['Hail', 'hail', 'raining', 'stormy'], 22:['Light snow shower (night)', 'snow', 'sleet', 'raining']\\\n",
    ", 23:['Light snow shower (day)', 'snow', 'sleet', 'raining'], 24: ['Light snow', 'snow', 'snowing', 'raining']\\\n",
    ", 25:['Heavy snow shower (night)', 'snow', 'snowing', ''], 26:['Heavy snow shower (day)', 'snow', 'snowing', ''],\\\n",
    "27:['Heavy snow', 'snow', 'snowing', ''], 28:['Thunder shower (night)', 'thunder', 'lightning', 'raining'],\\\n",
    "29:['Thunder shower (day)', 'thunder', 'lightning', 'raining'], 30:['Thunder', 'thunder', 'lightning', 'raining']}"
   ]
  },
  {
   "cell_type": "code",
   "execution_count": 21,
   "metadata": {
    "collapsed": false
   },
   "outputs": [],
   "source": [
    "Type = ManFrame['Weather Type'][today]"
   ]
  },
  {
   "cell_type": "code",
   "execution_count": 15,
   "metadata": {
    "collapsed": false
   },
   "outputs": [],
   "source": [
    "import datetime"
   ]
  },
  {
   "cell_type": "code",
   "execution_count": 20,
   "metadata": {
    "collapsed": false
   },
   "outputs": [],
   "source": [
    "today = str(datetime.date.today())"
   ]
  },
  {
   "cell_type": "code",
   "execution_count": 44,
   "metadata": {
    "collapsed": false
   },
   "outputs": [],
   "source": [
    "wtype = Type.encode('utf-8')"
   ]
  },
  {
   "cell_type": "code",
   "execution_count": 53,
   "metadata": {
    "collapsed": false
   },
   "outputs": [
    {
     "data": {
      "text/plain": [
       "'3'"
      ]
     },
     "execution_count": 53,
     "metadata": {},
     "output_type": "execute_result"
    }
   ],
   "source": [
    "wtype"
   ]
  },
  {
   "cell_type": "code",
   "execution_count": 50,
   "metadata": {
    "collapsed": false
   },
   "outputs": [],
   "source": [
    "wt = int(wtype)"
   ]
  },
  {
   "cell_type": "code",
   "execution_count": 54,
   "metadata": {
    "collapsed": false
   },
   "outputs": [
    {
     "data": {
      "text/plain": [
       "3"
      ]
     },
     "execution_count": 54,
     "metadata": {},
     "output_type": "execute_result"
    }
   ],
   "source": [
    "wt"
   ]
  },
  {
   "cell_type": "code",
   "execution_count": 57,
   "metadata": {
    "collapsed": false
   },
   "outputs": [],
   "source": [
    "wtoday = weatherdict[wt][1:]"
   ]
  },
  {
   "cell_type": "code",
   "execution_count": 58,
   "metadata": {
    "collapsed": false
   },
   "outputs": [
    {
     "data": {
      "text/plain": [
       "['cloudy', 'gloomy', 'overcast']"
      ]
     },
     "execution_count": 58,
     "metadata": {},
     "output_type": "execute_result"
    }
   ],
   "source": [
    "wtoday"
   ]
  },
  {
   "cell_type": "code",
   "execution_count": null,
   "metadata": {
    "collapsed": true
   },
   "outputs": [],
   "source": []
  }
 ],
 "metadata": {
  "anaconda-cloud": {},
  "kernelspec": {
   "display_name": "Python [Root]",
   "language": "python",
   "name": "Python [Root]"
  },
  "language_info": {
   "codemirror_mode": {
    "name": "ipython",
    "version": 2
   },
   "file_extension": ".py",
   "mimetype": "text/x-python",
   "name": "python",
   "nbconvert_exporter": "python",
   "pygments_lexer": "ipython2",
   "version": "2.7.12"
  }
 },
 "nbformat": 4,
 "nbformat_minor": 0
}
