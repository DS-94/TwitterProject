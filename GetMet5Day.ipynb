{
 "cells": [
  {
   "cell_type": "code",
   "execution_count": 2,
   "metadata": {
    "collapsed": true
   },
   "outputs": [],
   "source": [
    "import json\n",
    "from pandas import DataFrame, Series \n",
    "import pandas\n",
    "import numpy\n",
    "import urllib"
   ]
  },
  {
   "cell_type": "code",
   "execution_count": 3,
   "metadata": {
    "collapsed": true
   },
   "outputs": [],
   "source": [
    "url = 'http://datapoint.metoffice.gov.uk/public/data/val/wxfcs/all/json/310013?res=daily&key=841095cd-32d4-4984-9026-f21e9fdf90b2'"
   ]
  },
  {
   "cell_type": "code",
   "execution_count": 4,
   "metadata": {
    "collapsed": true
   },
   "outputs": [],
   "source": [
    "resp = urllib.urlopen(url)\n",
    "data = json.loads(resp.read())\n",
    "ManGeo = {'lat': u'53.479', 'lon': u'-2.2465', 'name': u'MANCHESTER'}\n",
    "Man5Data = []\n",
    "ManInd = []"
   ]
  },
  {
   "cell_type": "code",
   "execution_count": 5,
   "metadata": {
    "collapsed": true
   },
   "outputs": [],
   "source": [
    "datar = data['SiteRep']['DV']['Location']['Period']\n",
    "for i in datar[:]:\n",
    "      ManInd.append(i['value'][:-1])"
   ]
  },
  {
   "cell_type": "code",
   "execution_count": 6,
   "metadata": {
    "collapsed": true
   },
   "outputs": [],
   "source": [
    "datar = data['SiteRep']['DV']['Location']['Period']\n",
    "for i in datar[:]:\n",
    "    x = i['Rep'][0]\n",
    "    Man5Data.append({'Feels Like Max (C)':x['FDm'], 'Daily Max (C)':x['Dm'], 'Noon RH (%)':x['Hn'], 'Wind Speed (mph)':x['S'], 'Weather Type':x['W'], 'Precip Prob_day (%)':x['PPd'] })    "
   ]
  },
  {
   "cell_type": "code",
   "execution_count": 7,
   "metadata": {
    "collapsed": true
   },
   "outputs": [],
   "source": [
    "ManFrame = DataFrame(Man5Data)"
   ]
  },
  {
   "cell_type": "code",
   "execution_count": 8,
   "metadata": {
    "collapsed": true
   },
   "outputs": [],
   "source": [
    "ManFrame.index=ManInd"
   ]
  },
  {
   "cell_type": "code",
   "execution_count": 9,
   "metadata": {
    "collapsed": false
   },
   "outputs": [
    {
     "data": {
      "text/html": [
       "<div>\n",
       "<table border=\"1\" class=\"dataframe\">\n",
       "  <thead>\n",
       "    <tr style=\"text-align: right;\">\n",
       "      <th></th>\n",
       "      <th>Daily Max (C)</th>\n",
       "      <th>Feels Like Max (C)</th>\n",
       "      <th>Noon RH (%)</th>\n",
       "      <th>Precip Prob_day (%)</th>\n",
       "      <th>Weather Type</th>\n",
       "      <th>Wind Speed (mph)</th>\n",
       "    </tr>\n",
       "  </thead>\n",
       "  <tbody>\n",
       "    <tr>\n",
       "      <th>2016-09-15</th>\n",
       "      <td>24</td>\n",
       "      <td>26</td>\n",
       "      <td>80</td>\n",
       "      <td>15</td>\n",
       "      <td>3</td>\n",
       "      <td>4</td>\n",
       "    </tr>\n",
       "    <tr>\n",
       "      <th>2016-09-16</th>\n",
       "      <td>17</td>\n",
       "      <td>14</td>\n",
       "      <td>60</td>\n",
       "      <td>55</td>\n",
       "      <td>3</td>\n",
       "      <td>13</td>\n",
       "    </tr>\n",
       "    <tr>\n",
       "      <th>2016-09-17</th>\n",
       "      <td>17</td>\n",
       "      <td>16</td>\n",
       "      <td>63</td>\n",
       "      <td>4</td>\n",
       "      <td>7</td>\n",
       "      <td>9</td>\n",
       "    </tr>\n",
       "    <tr>\n",
       "      <th>2016-09-18</th>\n",
       "      <td>18</td>\n",
       "      <td>17</td>\n",
       "      <td>74</td>\n",
       "      <td>10</td>\n",
       "      <td>7</td>\n",
       "      <td>4</td>\n",
       "    </tr>\n",
       "    <tr>\n",
       "      <th>2016-09-19</th>\n",
       "      <td>16</td>\n",
       "      <td>14</td>\n",
       "      <td>72</td>\n",
       "      <td>13</td>\n",
       "      <td>7</td>\n",
       "      <td>9</td>\n",
       "    </tr>\n",
       "  </tbody>\n",
       "</table>\n",
       "</div>"
      ],
      "text/plain": [
       "           Daily Max (C) Feels Like Max (C) Noon RH (%) Precip Prob_day (%)  \\\n",
       "2016-09-15            24                 26          80                  15   \n",
       "2016-09-16            17                 14          60                  55   \n",
       "2016-09-17            17                 16          63                   4   \n",
       "2016-09-18            18                 17          74                  10   \n",
       "2016-09-19            16                 14          72                  13   \n",
       "\n",
       "           Weather Type Wind Speed (mph)  \n",
       "2016-09-15            3                4  \n",
       "2016-09-16            3               13  \n",
       "2016-09-17            7                9  \n",
       "2016-09-18            7                4  \n",
       "2016-09-19            7                9  "
      ]
     },
     "execution_count": 9,
     "metadata": {},
     "output_type": "execute_result"
    }
   ],
   "source": [
    "ManFrame"
   ]
  },
  {
   "cell_type": "code",
   "execution_count": null,
   "metadata": {
    "collapsed": true
   },
   "outputs": [],
   "source": []
  }
 ],
 "metadata": {
  "kernelspec": {
   "display_name": "Python [Root]",
   "language": "python",
   "name": "Python [Root]"
  },
  "language_info": {
   "codemirror_mode": {
    "name": "ipython",
    "version": 2
   },
   "file_extension": ".py",
   "mimetype": "text/x-python",
   "name": "python",
   "nbconvert_exporter": "python",
   "pygments_lexer": "ipython2",
   "version": "2.7.12"
  }
 },
 "nbformat": 4,
 "nbformat_minor": 0
}
